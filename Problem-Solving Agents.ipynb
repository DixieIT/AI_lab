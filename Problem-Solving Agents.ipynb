{
 "cells": [
  {
   "cell_type": "code",
   "execution_count": 2,
   "metadata": {},
   "outputs": [],
   "source": [
    "successors = {'a':  ['b', 'c', 'd'],\n",
    "              'b':  ['e', 'f', 'g'],\n",
    "              'c':  ['a', 'h', 'i'],\n",
    "              'd':  ['j', 'z'],\n",
    "              'e':  ['k', 'l'],\n",
    "              'g':  ['m'],\n",
    "              'k':  ['z']}\n"
   ]
  },
  {
   "cell_type": "code",
   "execution_count": 3,
   "metadata": {},
   "outputs": [],
   "source": [
    "import copy\n",
    "def successorsf(state):\n",
    "    return copy.copy(successors.get(state, []))"
   ]
  },
  {
   "cell_type": "code",
   "execution_count": 4,
   "metadata": {},
   "outputs": [
    {
     "data": {
      "text/plain": [
       "['k', 'l']"
      ]
     },
     "execution_count": 4,
     "metadata": {},
     "output_type": "execute_result"
    }
   ],
   "source": [
    "successorsf('e')"
   ]
  },
  {
   "cell_type": "code",
   "execution_count": 5,
   "metadata": {},
   "outputs": [
    {
     "name": "stdout",
     "output_type": "stream",
     "text": [
      "Breadth-first\n",
      "path from a to a is ['a']\n",
      "path from a to m is ['a', 'b', 'g', 'm']\n",
      "path from a to z is ['a', 'd', 'z']\n"
     ]
    }
   ],
   "source": [
    "def nodeSearch(startState, goalState, successorsf, breadthFirst):\n",
    "    '''\n",
    "    Given a startState, and goalState, and a function to\n",
    "    calculate successors, will return a breadthFirstSearch\n",
    "    '''\n",
    "    # Initialize expanded to be empty dictionary\n",
    "    expanded = {}\n",
    "    # Initialize unExpanded to be list containing (startState, None)\n",
    "    unExpanded = [(startState, None)]\n",
    "\n",
    "    if (startState == goalState):\n",
    "        return [startState]\n",
    "\n",
    "    while unExpanded:\n",
    "\n",
    "        state = unExpanded.pop()\n",
    "        parent = state[0]\n",
    "        children = successorsf(parent)\n",
    "        filteredChildren = []\n",
    "\n",
    "        for child in children:\n",
    "            if child not in expanded:\n",
    "                if(child,parent) not in unExpanded:\n",
    "                    filteredChildren.append(child)\n",
    "\n",
    "        children = filteredChildren\n",
    "\n",
    "        expanded[parent] = state[1]\n",
    "\n",
    "        if goalState in children:\n",
    "            solutionPath = [state[0],goalState]\n",
    "\n",
    "            parent = expanded[parent]\n",
    "            while parent:\n",
    "                solutionPath.insert(0, parent)\n",
    "                parent = expanded[parent]\n",
    "\n",
    "            return solutionPath\n",
    "\n",
    "        children.sort(reverse=True)\n",
    "        childTuples = [(c, p) for c in children for p in [state[0]]]\n",
    "\n",
    "        if (breadthFirst):\n",
    "            unExpanded = childTuples + unExpanded\n",
    "        else:\n",
    "            unExpanded.extend(childTuples)\n",
    "            \n",
    "            \n",
    "    \n",
    "def breadthFirstSearch(startState, goalState, sucessorsf):\n",
    "    return nodeSearch(startState, goalState, successorsf, True)\n",
    "\n",
    "def depthFirstSearch(startState, goalState, successorsf):\n",
    "    return nodeSearch(startState, goalState, successorsf, False)\n",
    "\n"
   ]
  },
  {
   "cell_type": "code",
   "execution_count": null,
   "metadata": {},
   "outputs": [],
   "source": [
    "print('Breadth-first')\n",
    "print('path from a to a is', breadthFirstSearch('a', 'a', successorsf))\n",
    "print('path from a to m is', breadthFirstSearch('a', 'm', successorsf))\n",
    "print('path from a to z is', breadthFirstSearch('a', 'z', successorsf))"
   ]
  },
  {
   "cell_type": "code",
   "execution_count": 6,
   "metadata": {},
   "outputs": [
    {
     "name": "stdout",
     "output_type": "stream",
     "text": [
      "Depth-first\n",
      "path from a to a is ['a']\n",
      "path from a to m is ['a', 'b', 'g', 'm']\n",
      "path from a to z is ['a', 'b', 'e', 'k', 'z']\n"
     ]
    }
   ],
   "source": [
    "print('Depth-first')\n",
    "print('path from a to a is', depthFirstSearch('a', 'a', successorsf))\n",
    "print('path from a to m is', depthFirstSearch('a', 'm', successorsf))\n",
    "print('path from a to z is', depthFirstSearch('a', 'z', successorsf))"
   ]
  }
 ],
 "metadata": {
  "kernelspec": {
   "display_name": "Python 3",
   "language": "python",
   "name": "python3"
  },
  "language_info": {
   "codemirror_mode": {
    "name": "ipython",
    "version": 3
   },
   "file_extension": ".py",
   "mimetype": "text/x-python",
   "name": "python",
   "nbconvert_exporter": "python",
   "pygments_lexer": "ipython3",
   "version": "3.11.6"
  }
 },
 "nbformat": 4,
 "nbformat_minor": 2
}
