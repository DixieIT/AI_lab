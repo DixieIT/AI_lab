{
  "cells": [
    {
      "cell_type": "markdown",
      "metadata": {
        "id": "view-in-github",
        "colab_type": "text"
      },
      "source": [
        "<a href=\"https://colab.research.google.com/github/DixieIT/AI_lab/blob/main/notebooks/run.ipynb\" target=\"_parent\"><img src=\"https://colab.research.google.com/assets/colab-badge.svg\" alt=\"Open In Colab\"/></a>"
      ]
    },
    {
      "cell_type": "markdown",
      "id": "20326118",
      "metadata": {
        "id": "20326118"
      },
      "source": [
        "# Install"
      ]
    },
    {
      "cell_type": "markdown",
      "id": "2422f32f",
      "metadata": {
        "id": "2422f32f"
      },
      "source": [
        "## Install BenchMARL"
      ]
    },
    {
      "cell_type": "code",
      "execution_count": 2,
      "id": "8b10fd32",
      "metadata": {
        "id": "8b10fd32",
        "outputId": "7ccc70d6-f5ec-4c89-faa1-99794076b1a1",
        "colab": {
          "base_uri": "https://localhost:8080/"
        }
      },
      "outputs": [
        {
          "output_type": "stream",
          "name": "stdout",
          "text": [
            "fatal: destination path 'BenchMARL' already exists and is not an empty directory.\n"
          ]
        }
      ],
      "source": [
        "#@title\n",
        "!git clone https://github.com/facebookresearch/BenchMARL"
      ]
    },
    {
      "cell_type": "code",
      "execution_count": 3,
      "id": "6cd7b69b",
      "metadata": {
        "id": "6cd7b69b",
        "outputId": "8cc3190d-3ef9-422d-9e0a-ab05a92c8095",
        "colab": {
          "base_uri": "https://localhost:8080/"
        }
      },
      "outputs": [
        {
          "output_type": "stream",
          "name": "stdout",
          "text": [
            "/content/BenchMARL\n"
          ]
        }
      ],
      "source": [
        "#@title\n",
        "%cd /content/BenchMARL"
      ]
    },
    {
      "cell_type": "code",
      "execution_count": 4,
      "id": "4f32b88e",
      "metadata": {
        "id": "4f32b88e",
        "outputId": "d39cade9-b9dd-408b-a074-cf1a546740f3",
        "colab": {
          "base_uri": "https://localhost:8080/"
        }
      },
      "outputs": [
        {
          "output_type": "stream",
          "name": "stdout",
          "text": [
            "Requirement already satisfied: torch in /usr/local/lib/python3.10/dist-packages (2.5.1+cu121)\n",
            "Requirement already satisfied: torchvision in /usr/local/lib/python3.10/dist-packages (0.20.1+cu121)\n",
            "Requirement already satisfied: filelock in /usr/local/lib/python3.10/dist-packages (from torch) (3.16.1)\n",
            "Requirement already satisfied: typing-extensions>=4.8.0 in /usr/local/lib/python3.10/dist-packages (from torch) (4.12.2)\n",
            "Requirement already satisfied: networkx in /usr/local/lib/python3.10/dist-packages (from torch) (3.4.2)\n",
            "Requirement already satisfied: jinja2 in /usr/local/lib/python3.10/dist-packages (from torch) (3.1.4)\n",
            "Requirement already satisfied: fsspec in /usr/local/lib/python3.10/dist-packages (from torch) (2024.10.0)\n",
            "Requirement already satisfied: sympy==1.13.1 in /usr/local/lib/python3.10/dist-packages (from torch) (1.13.1)\n",
            "Requirement already satisfied: mpmath<1.4,>=1.1.0 in /usr/local/lib/python3.10/dist-packages (from sympy==1.13.1->torch) (1.3.0)\n",
            "Requirement already satisfied: numpy in /usr/local/lib/python3.10/dist-packages (from torchvision) (1.26.4)\n",
            "Requirement already satisfied: pillow!=8.3.*,>=5.3.0 in /usr/local/lib/python3.10/dist-packages (from torchvision) (11.0.0)\n",
            "Requirement already satisfied: MarkupSafe>=2.0 in /usr/local/lib/python3.10/dist-packages (from jinja2->torch) (3.0.2)\n",
            "Obtaining file:///content/BenchMARL\n",
            "  Installing build dependencies ... \u001b[?25l\u001b[?25hdone\n",
            "  Checking if build backend supports build_editable ... \u001b[?25l\u001b[?25hdone\n",
            "  Getting requirements to build editable ... \u001b[?25l\u001b[?25hdone\n",
            "  Preparing editable metadata (pyproject.toml) ... \u001b[?25l\u001b[?25hdone\n",
            "Requirement already satisfied: torchrl~=0.6.0 in /usr/local/lib/python3.10/dist-packages (from benchmarl==1.3.0) (0.6.0)\n",
            "Requirement already satisfied: tqdm in /usr/local/lib/python3.10/dist-packages (from benchmarl==1.3.0) (4.66.6)\n",
            "Requirement already satisfied: hydra-core in /usr/local/lib/python3.10/dist-packages (from benchmarl==1.3.0) (1.3.2)\n",
            "Requirement already satisfied: torch>=2.5.0 in /usr/local/lib/python3.10/dist-packages (from torchrl~=0.6.0->benchmarl==1.3.0) (2.5.1+cu121)\n",
            "Requirement already satisfied: numpy in /usr/local/lib/python3.10/dist-packages (from torchrl~=0.6.0->benchmarl==1.3.0) (1.26.4)\n",
            "Requirement already satisfied: packaging in /usr/local/lib/python3.10/dist-packages (from torchrl~=0.6.0->benchmarl==1.3.0) (24.2)\n",
            "Requirement already satisfied: cloudpickle in /usr/local/lib/python3.10/dist-packages (from torchrl~=0.6.0->benchmarl==1.3.0) (3.1.0)\n",
            "Requirement already satisfied: tensordict>=0.6.0 in /usr/local/lib/python3.10/dist-packages (from torchrl~=0.6.0->benchmarl==1.3.0) (0.6.2)\n",
            "Requirement already satisfied: omegaconf<2.4,>=2.2 in /usr/local/lib/python3.10/dist-packages (from hydra-core->benchmarl==1.3.0) (2.3.0)\n",
            "Requirement already satisfied: antlr4-python3-runtime==4.9.* in /usr/local/lib/python3.10/dist-packages (from hydra-core->benchmarl==1.3.0) (4.9.3)\n",
            "Requirement already satisfied: PyYAML>=5.1.0 in /usr/local/lib/python3.10/dist-packages (from omegaconf<2.4,>=2.2->hydra-core->benchmarl==1.3.0) (6.0.2)\n",
            "Requirement already satisfied: orjson in /usr/local/lib/python3.10/dist-packages (from tensordict>=0.6.0->torchrl~=0.6.0->benchmarl==1.3.0) (3.10.11)\n",
            "Requirement already satisfied: filelock in /usr/local/lib/python3.10/dist-packages (from torch>=2.5.0->torchrl~=0.6.0->benchmarl==1.3.0) (3.16.1)\n",
            "Requirement already satisfied: typing-extensions>=4.8.0 in /usr/local/lib/python3.10/dist-packages (from torch>=2.5.0->torchrl~=0.6.0->benchmarl==1.3.0) (4.12.2)\n",
            "Requirement already satisfied: networkx in /usr/local/lib/python3.10/dist-packages (from torch>=2.5.0->torchrl~=0.6.0->benchmarl==1.3.0) (3.4.2)\n",
            "Requirement already satisfied: jinja2 in /usr/local/lib/python3.10/dist-packages (from torch>=2.5.0->torchrl~=0.6.0->benchmarl==1.3.0) (3.1.4)\n",
            "Requirement already satisfied: fsspec in /usr/local/lib/python3.10/dist-packages (from torch>=2.5.0->torchrl~=0.6.0->benchmarl==1.3.0) (2024.10.0)\n",
            "Requirement already satisfied: sympy==1.13.1 in /usr/local/lib/python3.10/dist-packages (from torch>=2.5.0->torchrl~=0.6.0->benchmarl==1.3.0) (1.13.1)\n",
            "Requirement already satisfied: mpmath<1.4,>=1.1.0 in /usr/local/lib/python3.10/dist-packages (from sympy==1.13.1->torch>=2.5.0->torchrl~=0.6.0->benchmarl==1.3.0) (1.3.0)\n",
            "Requirement already satisfied: MarkupSafe>=2.0 in /usr/local/lib/python3.10/dist-packages (from jinja2->torch>=2.5.0->torchrl~=0.6.0->benchmarl==1.3.0) (3.0.2)\n",
            "Building wheels for collected packages: benchmarl\n",
            "  Building editable for benchmarl (pyproject.toml) ... \u001b[?25l\u001b[?25hdone\n",
            "  Created wheel for benchmarl: filename=benchmarl-1.3.0-0.editable-py3-none-any.whl size=3755 sha256=e3da067a49f9a1bb0660a9ba3482956a42d231454b0474f7e8152c4037dec18c\n",
            "  Stored in directory: /tmp/pip-ephem-wheel-cache-wwn1sih0/wheels/5b/86/4d/eff20c27275b75bdf6b20e4a81af849509b0068ff4c44be9df\n",
            "Successfully built benchmarl\n",
            "Installing collected packages: benchmarl\n",
            "  Attempting uninstall: benchmarl\n",
            "    Found existing installation: benchmarl 1.3.0\n",
            "    Uninstalling benchmarl-1.3.0:\n",
            "      Successfully uninstalled benchmarl-1.3.0\n",
            "Successfully installed benchmarl-1.3.0\n",
            "Reading package lists... Done\n",
            "Building dependency tree... Done\n",
            "Reading state information... Done\n",
            "python3-opengl is already the newest version (3.1.5+dfsg-1).\n",
            "xvfb is already the newest version (2:21.1.4-2ubuntu1.7~22.04.12).\n",
            "0 upgraded, 0 newly installed, 0 to remove and 59 not upgraded.\n",
            "Requirement already satisfied: pyglet in /usr/local/lib/python3.10/dist-packages (2.0.18)\n"
          ]
        }
      ],
      "source": [
        "#@title\n",
        "!pip install -U torch torchvision\n",
        "!pip install -e .\n",
        "!apt-get install -y python3-opengl xvfb\n",
        "!pip install pyglet"
      ]
    },
    {
      "cell_type": "markdown",
      "id": "585d3a35",
      "metadata": {
        "id": "585d3a35"
      },
      "source": [
        "## Install PettingZoo\n"
      ]
    },
    {
      "cell_type": "code",
      "execution_count": 5,
      "id": "d2e551b1",
      "metadata": {
        "id": "d2e551b1",
        "outputId": "3210364d-f5fb-4509-e74a-7ec2dd96e2de",
        "colab": {
          "base_uri": "https://localhost:8080/"
        }
      },
      "outputs": [
        {
          "output_type": "stream",
          "name": "stdout",
          "text": [
            "Requirement already satisfied: pettingzoo[all] in /usr/local/lib/python3.10/dist-packages (1.24.3)\n",
            "Requirement already satisfied: numpy>=1.21.0 in /usr/local/lib/python3.10/dist-packages (from pettingzoo[all]) (1.26.4)\n",
            "Requirement already satisfied: gymnasium>=0.28.0 in /usr/local/lib/python3.10/dist-packages (from pettingzoo[all]) (1.0.0)\n",
            "Collecting multi-agent-ale-py==0.1.11 (from pettingzoo[all])\n",
            "  Using cached multi_agent_ale_py-0.1.11-cp310-cp310-linux_x86_64.whl\n",
            "Collecting pygame==2.3.0 (from pettingzoo[all])\n",
            "  Using cached pygame-2.3.0-cp310-cp310-manylinux_2_17_x86_64.manylinux2014_x86_64.whl.metadata (10 kB)\n",
            "Collecting chess==1.9.4 (from pettingzoo[all])\n",
            "  Using cached chess-1.9.4-py3-none-any.whl.metadata (18 kB)\n",
            "Collecting rlcard==1.0.5 (from pettingzoo[all])\n",
            "  Using cached rlcard-1.0.5-py3-none-any.whl\n",
            "Collecting shimmy>=1.2.0 (from shimmy[openspiel]>=1.2.0; extra == \"all\"->pettingzoo[all])\n",
            "  Using cached Shimmy-2.0.0-py3-none-any.whl.metadata (3.5 kB)\n",
            "Collecting pymunk==6.2.0 (from pettingzoo[all])\n",
            "  Using cached pymunk-6.2.0-cp310-cp310-linux_x86_64.whl\n",
            "Collecting box2d-py==2.3.5 (from pettingzoo[all])\n",
            "  Using cached box2d-py-2.3.5.tar.gz (374 kB)\n",
            "  Preparing metadata (setup.py) ... \u001b[?25l\u001b[?25hdone\n",
            "Requirement already satisfied: scipy>=1.4.1 in /usr/local/lib/python3.10/dist-packages (from pettingzoo[all]) (1.13.1)\n",
            "Requirement already satisfied: pillow>=8.0.1 in /usr/local/lib/python3.10/dist-packages (from pettingzoo[all]) (11.0.0)\n",
            "Requirement already satisfied: cffi>1.14.0 in /usr/local/lib/python3.10/dist-packages (from pymunk==6.2.0->pettingzoo[all]) (1.17.1)\n",
            "Requirement already satisfied: termcolor in /usr/local/lib/python3.10/dist-packages (from rlcard==1.0.5->pettingzoo[all]) (2.5.0)\n",
            "Requirement already satisfied: cloudpickle>=1.2.0 in /usr/local/lib/python3.10/dist-packages (from gymnasium>=0.28.0->pettingzoo[all]) (3.1.0)\n",
            "Requirement already satisfied: typing-extensions>=4.3.0 in /usr/local/lib/python3.10/dist-packages (from gymnasium>=0.28.0->pettingzoo[all]) (4.12.2)\n",
            "Requirement already satisfied: farama-notifications>=0.0.1 in /usr/local/lib/python3.10/dist-packages (from gymnasium>=0.28.0->pettingzoo[all]) (0.0.4)\n",
            "Collecting open-spiel>=1.2 (from shimmy[openspiel]>=1.2.0; extra == \"all\"->pettingzoo[all])\n",
            "  Using cached open_spiel-1.5-cp310-cp310-manylinux_2_17_x86_64.manylinux2014_x86_64.whl.metadata (4.7 kB)\n",
            "Requirement already satisfied: pycparser in /usr/local/lib/python3.10/dist-packages (from cffi>1.14.0->pymunk==6.2.0->pettingzoo[all]) (2.22)\n",
            "Requirement already satisfied: pip>=20.0.2 in /usr/local/lib/python3.10/dist-packages (from open-spiel>=1.2->shimmy[openspiel]>=1.2.0; extra == \"all\"->pettingzoo[all]) (24.1.2)\n",
            "Requirement already satisfied: attrs>=19.3.0 in /usr/local/lib/python3.10/dist-packages (from open-spiel>=1.2->shimmy[openspiel]>=1.2.0; extra == \"all\"->pettingzoo[all]) (24.2.0)\n",
            "Requirement already satisfied: absl-py>=0.10.0 in /usr/local/lib/python3.10/dist-packages (from open-spiel>=1.2->shimmy[openspiel]>=1.2.0; extra == \"all\"->pettingzoo[all]) (1.4.0)\n",
            "Collecting ml-collections>=0.1.1 (from open-spiel>=1.2->shimmy[openspiel]>=1.2.0; extra == \"all\"->pettingzoo[all])\n",
            "  Using cached ml_collections-1.0.0-py3-none-any.whl.metadata (22 kB)\n",
            "Requirement already satisfied: six in /usr/local/lib/python3.10/dist-packages (from ml-collections>=0.1.1->open-spiel>=1.2->shimmy[openspiel]>=1.2.0; extra == \"all\"->pettingzoo[all]) (1.16.0)\n",
            "Requirement already satisfied: PyYAML in /usr/local/lib/python3.10/dist-packages (from ml-collections>=0.1.1->open-spiel>=1.2->shimmy[openspiel]>=1.2.0; extra == \"all\"->pettingzoo[all]) (6.0.2)\n",
            "Using cached chess-1.9.4-py3-none-any.whl (149 kB)\n",
            "Using cached pygame-2.3.0-cp310-cp310-manylinux_2_17_x86_64.manylinux2014_x86_64.whl (13.8 MB)\n",
            "Using cached Shimmy-2.0.0-py3-none-any.whl (30 kB)\n",
            "Using cached open_spiel-1.5-cp310-cp310-manylinux_2_17_x86_64.manylinux2014_x86_64.whl (5.8 MB)\n",
            "Using cached ml_collections-1.0.0-py3-none-any.whl (76 kB)\n",
            "Building wheels for collected packages: box2d-py\n",
            "  \u001b[1;31merror\u001b[0m: \u001b[1msubprocess-exited-with-error\u001b[0m\n",
            "  \n",
            "  \u001b[31m×\u001b[0m \u001b[32mpython setup.py bdist_wheel\u001b[0m did not run successfully.\n",
            "  \u001b[31m│\u001b[0m exit code: \u001b[1;36m1\u001b[0m\n",
            "  \u001b[31m╰─>\u001b[0m See above for output.\n",
            "  \n",
            "  \u001b[1;35mnote\u001b[0m: This error originates from a subprocess, and is likely not a problem with pip.\n",
            "  Building wheel for box2d-py (setup.py) ... \u001b[?25lerror\n",
            "\u001b[31m  ERROR: Failed building wheel for box2d-py\u001b[0m\u001b[31m\n",
            "\u001b[0m\u001b[?25h  Running setup.py clean for box2d-py\n",
            "Failed to build box2d-py\n",
            "\u001b[31mERROR: ERROR: Failed to build installable wheels for some pyproject.toml based projects (box2d-py)\u001b[0m\u001b[31m\n",
            "\u001b[0mRequirement already satisfied: pettingzoo in /usr/local/lib/python3.10/dist-packages (1.24.3)\n",
            "Requirement already satisfied: numpy>=1.21.0 in /usr/local/lib/python3.10/dist-packages (from pettingzoo) (1.26.4)\n",
            "Requirement already satisfied: gymnasium>=0.28.0 in /usr/local/lib/python3.10/dist-packages (from pettingzoo) (1.0.0)\n",
            "Requirement already satisfied: cloudpickle>=1.2.0 in /usr/local/lib/python3.10/dist-packages (from gymnasium>=0.28.0->pettingzoo) (3.1.0)\n",
            "Requirement already satisfied: typing-extensions>=4.3.0 in /usr/local/lib/python3.10/dist-packages (from gymnasium>=0.28.0->pettingzoo) (4.12.2)\n",
            "Requirement already satisfied: farama-notifications>=0.0.1 in /usr/local/lib/python3.10/dist-packages (from gymnasium>=0.28.0->pettingzoo) (0.0.4)\n"
          ]
        }
      ],
      "source": [
        "#@title\n",
        "!pip install pettingzoo[all]\n",
        "!pip install pettingzoo"
      ]
    },
    {
      "cell_type": "code",
      "execution_count": 6,
      "id": "33d72783",
      "metadata": {
        "id": "33d72783",
        "outputId": "a0022ccc-00d1-493a-819d-f890be5fddbf",
        "colab": {
          "base_uri": "https://localhost:8080/"
        }
      },
      "outputs": [
        {
          "output_type": "stream",
          "name": "stdout",
          "text": [
            "\r0% [Working]\r            \rHit:1 https://cloud.r-project.org/bin/linux/ubuntu jammy-cran40/ InRelease\n",
            "\r0% [Connecting to archive.ubuntu.com] [Connecting to security.ubuntu.com (91.189.91.81)] [Connected \r                                                                                                    \rHit:2 https://developer.download.nvidia.com/compute/cuda/repos/ubuntu2204/x86_64  InRelease\n",
            "Hit:3 http://security.ubuntu.com/ubuntu jammy-security InRelease\n",
            "Hit:4 http://archive.ubuntu.com/ubuntu jammy InRelease\n",
            "Hit:5 https://r2u.stat.illinois.edu/ubuntu jammy InRelease\n",
            "Hit:6 http://archive.ubuntu.com/ubuntu jammy-updates InRelease\n",
            "Hit:7 http://archive.ubuntu.com/ubuntu jammy-backports InRelease\n",
            "Hit:8 https://ppa.launchpadcontent.net/deadsnakes/ppa/ubuntu jammy InRelease\n",
            "Hit:9 https://ppa.launchpadcontent.net/graphics-drivers/ppa/ubuntu jammy InRelease\n",
            "Hit:10 https://ppa.launchpadcontent.net/ubuntugis/ppa/ubuntu jammy InRelease\n",
            "Reading package lists... Done\n",
            "W: Skipping acquire of configured file 'main/source/Sources' as repository 'https://r2u.stat.illinois.edu/ubuntu jammy InRelease' does not seem to provide it (sources.list entry misspelt?)\n",
            "Reading package lists... Done\n",
            "Building dependency tree... Done\n",
            "Reading state information... Done\n",
            "x11-utils is already the newest version (7.7+5build2).\n",
            "0 upgraded, 0 newly installed, 0 to remove and 59 not upgraded.\n",
            "Reading package lists... Done\n",
            "Building dependency tree... Done\n",
            "Reading state information... Done\n",
            "xvfb is already the newest version (2:21.1.4-2ubuntu1.7~22.04.12).\n",
            "0 upgraded, 0 newly installed, 0 to remove and 59 not upgraded.\n",
            "Reading package lists... Done\n",
            "Building dependency tree... Done\n",
            "Reading state information... Done\n",
            "imagemagick is already the newest version (8:6.9.11.60+dfsg-1.3ubuntu0.22.04.5).\n",
            "0 upgraded, 0 newly installed, 0 to remove and 59 not upgraded.\n",
            "Requirement already satisfied: pyvirtualdisplay in /usr/local/lib/python3.10/dist-packages (3.0)\n"
          ]
        },
        {
          "output_type": "execute_result",
          "data": {
            "text/plain": [
              "<pyvirtualdisplay.display.Display at 0x7822621d62f0>"
            ]
          },
          "metadata": {},
          "execution_count": 6
        }
      ],
      "source": [
        "#@title\n",
        "!apt-get update\n",
        "!apt-get install -y x11-utils\n",
        "!apt-get install -y xvfb\n",
        "!apt-get install -y imagemagick\n",
        "!pip install pyvirtualdisplay\n",
        "import pyvirtualdisplay\n",
        "display = pyvirtualdisplay.Display(visible=False, size=(1400, 900))\n",
        "display.start()"
      ]
    },
    {
      "cell_type": "markdown",
      "source": [
        "## Setting Up Weights And Biases"
      ],
      "metadata": {
        "id": "3w5mzYekliY2"
      },
      "id": "3w5mzYekliY2"
    },
    {
      "cell_type": "code",
      "source": [
        "!pip install wandb"
      ],
      "metadata": {
        "colab": {
          "base_uri": "https://localhost:8080/"
        },
        "id": "OfSHtVa_kRyi",
        "outputId": "aad48585-847a-47a5-f45d-e03ec62c58cb"
      },
      "id": "OfSHtVa_kRyi",
      "execution_count": 7,
      "outputs": [
        {
          "output_type": "stream",
          "name": "stdout",
          "text": [
            "Requirement already satisfied: wandb in /usr/local/lib/python3.10/dist-packages (0.18.7)\n",
            "Requirement already satisfied: click!=8.0.0,>=7.1 in /usr/local/lib/python3.10/dist-packages (from wandb) (8.1.7)\n",
            "Requirement already satisfied: docker-pycreds>=0.4.0 in /usr/local/lib/python3.10/dist-packages (from wandb) (0.4.0)\n",
            "Requirement already satisfied: gitpython!=3.1.29,>=1.0.0 in /usr/local/lib/python3.10/dist-packages (from wandb) (3.1.43)\n",
            "Requirement already satisfied: platformdirs in /usr/local/lib/python3.10/dist-packages (from wandb) (4.3.6)\n",
            "Requirement already satisfied: protobuf!=4.21.0,!=5.28.0,<6,>=3.19.0 in /usr/local/lib/python3.10/dist-packages (from wandb) (4.25.5)\n",
            "Requirement already satisfied: psutil>=5.0.0 in /usr/local/lib/python3.10/dist-packages (from wandb) (5.9.5)\n",
            "Requirement already satisfied: pyyaml in /usr/local/lib/python3.10/dist-packages (from wandb) (6.0.2)\n",
            "Requirement already satisfied: requests<3,>=2.0.0 in /usr/local/lib/python3.10/dist-packages (from wandb) (2.32.3)\n",
            "Requirement already satisfied: sentry-sdk>=2.0.0 in /usr/local/lib/python3.10/dist-packages (from wandb) (2.18.0)\n",
            "Requirement already satisfied: setproctitle in /usr/local/lib/python3.10/dist-packages (from wandb) (1.3.4)\n",
            "Requirement already satisfied: setuptools in /usr/local/lib/python3.10/dist-packages (from wandb) (75.1.0)\n",
            "Requirement already satisfied: typing-extensions<5,>=4.4 in /usr/local/lib/python3.10/dist-packages (from wandb) (4.12.2)\n",
            "Requirement already satisfied: six>=1.4.0 in /usr/local/lib/python3.10/dist-packages (from docker-pycreds>=0.4.0->wandb) (1.16.0)\n",
            "Requirement already satisfied: gitdb<5,>=4.0.1 in /usr/local/lib/python3.10/dist-packages (from gitpython!=3.1.29,>=1.0.0->wandb) (4.0.11)\n",
            "Requirement already satisfied: charset-normalizer<4,>=2 in /usr/local/lib/python3.10/dist-packages (from requests<3,>=2.0.0->wandb) (3.4.0)\n",
            "Requirement already satisfied: idna<4,>=2.5 in /usr/local/lib/python3.10/dist-packages (from requests<3,>=2.0.0->wandb) (3.10)\n",
            "Requirement already satisfied: urllib3<3,>=1.21.1 in /usr/local/lib/python3.10/dist-packages (from requests<3,>=2.0.0->wandb) (2.2.3)\n",
            "Requirement already satisfied: certifi>=2017.4.17 in /usr/local/lib/python3.10/dist-packages (from requests<3,>=2.0.0->wandb) (2024.8.30)\n",
            "Requirement already satisfied: smmap<6,>=3.0.1 in /usr/local/lib/python3.10/dist-packages (from gitdb<5,>=4.0.1->gitpython!=3.1.29,>=1.0.0->wandb) (5.0.1)\n"
          ]
        }
      ]
    },
    {
      "cell_type": "code",
      "source": [
        "!wandb login"
      ],
      "metadata": {
        "colab": {
          "base_uri": "https://localhost:8080/"
        },
        "id": "RXsLuuvpkY-Z",
        "outputId": "7f162882-fa76-443d-ba95-35dbcd7a48ee"
      },
      "id": "RXsLuuvpkY-Z",
      "execution_count": 8,
      "outputs": [
        {
          "output_type": "stream",
          "name": "stdout",
          "text": [
            "\u001b[34m\u001b[1mwandb\u001b[0m: Currently logged in as: \u001b[33mgabriele-masiero2002\u001b[0m (\u001b[33mgabriele-masiero2002-universit-degli-studi-di-verona\u001b[0m). Use \u001b[1m`wandb login --relogin`\u001b[0m to force relogin\n"
          ]
        }
      ]
    },
    {
      "cell_type": "markdown",
      "id": "caa7225f",
      "metadata": {
        "id": "caa7225f"
      },
      "source": [
        "# Testing with 1 experiment"
      ]
    },
    {
      "cell_type": "code",
      "execution_count": null,
      "id": "5369898f",
      "metadata": {
        "scrolled": false,
        "id": "5369898f",
        "outputId": "2eccf19c-3802-490d-8220-22781f038b97",
        "colab": {
          "base_uri": "https://localhost:8080/"
        }
      },
      "outputs": [
        {
          "output_type": "stream",
          "name": "stdout",
          "text": [
            "/content/BenchMARL/benchmarl/environments/magent/common.py:44: DeprecationWarning: private variables, such as '_MAgentTask__get_env', will be normal attributes in 3.11\n",
            "  def __get_env(self) -> EnvBase:\n",
            "\n",
            "Algorithm: maddpg, Task: pettingzoo/simple_spread\n",
            "\n",
            "Loaded config:\n",
            "\n",
            "experiment:\n",
            "  sampling_device: cuda\n",
            "  train_device: cuda\n",
            "  buffer_device: cuda\n",
            "  share_policy_params: true\n",
            "  prefer_continuous_actions: true\n",
            "  collect_with_grad: false\n",
            "  gamma: 0.9\n",
            "  lr: 3.0e-05\n",
            "  adam_eps: 1.0e-06\n",
            "  clip_grad_norm: true\n",
            "  clip_grad_val: 2.0\n",
            "  soft_target_update: true\n",
            "  polyak_tau: 0.005\n",
            "  hard_target_update_frequency: 5\n",
            "  exploration_eps_init: 0.8\n",
            "  exploration_eps_end: 0.01\n",
            "  exploration_anneal_frames: null\n",
            "  max_n_iters: 500\n",
            "  max_n_frames: 3000000\n",
            "  on_policy_collected_frames_per_batch: 6000\n",
            "  on_policy_n_envs_per_worker: 8\n",
            "  on_policy_n_minibatch_iters: 128\n",
            "  on_policy_minibatch_size: 1024\n",
            "  off_policy_collected_frames_per_batch: 6000\n",
            "  off_policy_n_envs_per_worker: 10\n",
            "  off_policy_n_optimizer_steps: 1000\n",
            "  off_policy_train_batch_size: 128\n",
            "  off_policy_memory_size: 1000000\n",
            "  off_policy_init_random_frames: 0\n",
            "  evaluation: true\n",
            "  render: true\n",
            "  evaluation_interval: 120000\n",
            "  evaluation_episodes: 10\n",
            "  evaluation_deterministic_actions: true\n",
            "  loggers:\n",
            "  - wandb\n",
            "  project_name: benchmarl\n",
            "  create_json: true\n",
            "  save_folder: null\n",
            "  restore_file: null\n",
            "  restore_map_location: null\n",
            "  checkpoint_interval: 0\n",
            "  checkpoint_at_end: false\n",
            "  keep_checkpoints_num: 3\n",
            "algorithm:\n",
            "  share_param_critic: true\n",
            "  loss_function: l2\n",
            "  delay_value: true\n",
            "  use_tanh_mapping: true\n",
            "task:\n",
            "  task: simple_spread_v3\n",
            "  max_cycles: 100\n",
            "  local_ratio: 0.5\n",
            "  'N': 3\n",
            "model:\n",
            "  name: mlp\n",
            "  num_cells:\n",
            "  - 256\n",
            "  - 256\n",
            "  layer_class: torch.nn.Linear\n",
            "  activation_class: torch.nn.Tanh\n",
            "  activation_kwargs: null\n",
            "  norm_class: null\n",
            "  norm_kwargs: null\n",
            "critic_model:\n",
            "  name: mlp\n",
            "  num_cells:\n",
            "  - 256\n",
            "  - 256\n",
            "  layer_class: torch.nn.Linear\n",
            "  activation_class: torch.nn.Tanh\n",
            "  activation_kwargs: null\n",
            "  norm_class: null\n",
            "  norm_kwargs: null\n",
            "seed: 0\n",
            "\n",
            "/usr/local/lib/python3.10/dist-packages/torchrl/envs/libs/pettingzoo.py:995: UserWarning: PettingZoo failed to load all modules with error message No module named 'multi_agent_ale_py', trying to load individual modules.\n",
            "  warnings.warn(\n",
            "/usr/local/lib/python3.10/dist-packages/pygame/pkgdata.py:25: DeprecationWarning: pkg_resources is deprecated as an API. See https://setuptools.pypa.io/en/latest/pkg_resources.html\n",
            "  from pkg_resources import resource_stream, resource_exists\n",
            "/usr/local/lib/python3.10/dist-packages/pkg_resources/__init__.py:3154: DeprecationWarning: Deprecated call to `pkg_resources.declare_namespace('google')`.\n",
            "Implementing implicit namespace packages (as specified in PEP 420) is preferred to `pkg_resources.declare_namespace`. See https://setuptools.pypa.io/en/latest/references/keywords.html#keyword-namespace-packages\n",
            "  declare_namespace(pkg)\n",
            "/usr/local/lib/python3.10/dist-packages/pkg_resources/__init__.py:3154: DeprecationWarning: Deprecated call to `pkg_resources.declare_namespace('google.cloud')`.\n",
            "Implementing implicit namespace packages (as specified in PEP 420) is preferred to `pkg_resources.declare_namespace`. See https://setuptools.pypa.io/en/latest/references/keywords.html#keyword-namespace-packages\n",
            "  declare_namespace(pkg)\n",
            "/usr/local/lib/python3.10/dist-packages/pkg_resources/__init__.py:3154: DeprecationWarning: Deprecated call to `pkg_resources.declare_namespace('sphinxcontrib')`.\n",
            "Implementing implicit namespace packages (as specified in PEP 420) is preferred to `pkg_resources.declare_namespace`. See https://setuptools.pypa.io/en/latest/references/keywords.html#keyword-namespace-packages\n",
            "  declare_namespace(pkg)\n",
            "/usr/local/lib/python3.10/dist-packages/torchrl/envs/libs/pettingzoo.py:51: UserWarning: SISL environments failed to load with error message No module named 'Box2D'.\n",
            "  warnings.warn(f\"SISL environments failed to load with error message {err}.\")\n",
            "/usr/local/lib/python3.10/dist-packages/torchrl/envs/libs/pettingzoo.py:57: UserWarning: Classic environments failed to load with error message No module named 'chess'.\n",
            "  warnings.warn(f\"Classic environments failed to load with error message {err}.\")\n",
            "/usr/local/lib/python3.10/dist-packages/torchrl/envs/libs/pettingzoo.py:63: UserWarning: Atari environments failed to load with error message No module named 'multi_agent_ale_py'.\n",
            "  warnings.warn(f\"Atari environments failed to load with error message {err}.\")\n",
            "/usr/local/lib/python3.10/dist-packages/torchrl/envs/libs/pettingzoo.py:69: UserWarning: Butterfly environments failed to load with error message No module named 'pymunk'.\n",
            "  warnings.warn(\n",
            "error: XDG_RUNTIME_DIR not set in the environment.\n",
            "/usr/local/lib/python3.10/dist-packages/torchrl/modules/tensordict_module/exploration.py:304: DeprecationWarning: AdditiveGaussianWrapper is deprecated and will be removed in v0.7. Please use torchrl.modules.AdditiveGaussianModule instead.\n",
            "  warnings.warn(\n",
            "/usr/local/lib/python3.10/dist-packages/torchrl/envs/libs/pettingzoo.py:995: UserWarning: PettingZoo failed to load all modules with error message No module named 'multi_agent_ale_py', trying to load individual modules.\n",
            "  warnings.warn(\n",
            "error: XDG_RUNTIME_DIR not set in the environment.\n",
            "\u001b[34m\u001b[1mwandb\u001b[0m: Using wandb-core as the SDK backend.  Please refer to https://wandb.me/wandb-core for more information.\n",
            "\u001b[34m\u001b[1mwandb\u001b[0m: Currently logged in as: \u001b[33mgabriele-masiero2002\u001b[0m (\u001b[33mgabriele-masiero2002-universit-degli-studi-di-verona\u001b[0m). Use \u001b[1m`wandb login --relogin`\u001b[0m to force relogin\n",
            "\u001b[34m\u001b[1mwandb\u001b[0m: Tracking run with wandb version 0.18.7\n",
            "\u001b[34m\u001b[1mwandb\u001b[0m: Run data is saved locally in \u001b[35m\u001b[1m/content/BenchMARL/outputs/2024-12-02/18-23-26/maddpg_simple_spread_mlp__154d1c42_24_12_02-18_23_28/wandb/run-20241202_182329-maddpg_simple_spread_mlp__154d1c42_24_12_02-18_23_28\u001b[0m\n",
            "\u001b[34m\u001b[1mwandb\u001b[0m: Run \u001b[1m`wandb offline`\u001b[0m to turn off syncing.\n",
            "\u001b[34m\u001b[1mwandb\u001b[0m: Syncing run \u001b[33mmaddpg_simple_spread_mlp__154d1c42_24_12_02-18_23_28\u001b[0m\n",
            "\u001b[34m\u001b[1mwandb\u001b[0m: ⭐️ View project at \u001b[34m\u001b[4mhttps://wandb.ai/gabriele-masiero2002-universit-degli-studi-di-verona/benchmarl\u001b[0m\n",
            "\u001b[34m\u001b[1mwandb\u001b[0m: 🚀 View run at \u001b[34m\u001b[4mhttps://wandb.ai/gabriele-masiero2002-universit-degli-studi-di-verona/benchmarl/runs/maddpg_simple_spread_mlp__154d1c42_24_12_02-18_23_28\u001b[0m\n",
            "  0% 0/500 [00:00<?, ?it/s]/usr/local/lib/python3.10/dist-packages/moviepy/config_defaults.py:1: DeprecationWarning: invalid escape sequence '\\P'\n",
            "  \"\"\"\n",
            "/usr/local/lib/python3.10/dist-packages/moviepy/video/io/ffmpeg_reader.py:294: DeprecationWarning: invalid escape sequence '\\d'\n",
            "  lines_video = [l for l in lines if ' Video: ' in l and re.search('\\d+x\\d+', l)]\n",
            "[2024-12-02 18:24:10,751][py.warnings][WARNING] - /usr/local/lib/python3.10/dist-packages/moviepy/video/fx/painting.py:7: DeprecationWarning: Please import `sobel` from the `scipy.ndimage` namespace; the `scipy.ndimage.filters` namespace is deprecated and will be removed in SciPy 2.0.0.\n",
            "  from scipy.ndimage.filters import sobel\n",
            "\n",
            "[2024-12-02 18:24:10,928][py.warnings][WARNING] - /usr/local/lib/python3.10/dist-packages/moviepy/video/io/sliders.py:61: SyntaxWarning: \"is\" with a literal. Did you mean \"==\"?\n",
            "  if event.key is 'enter':\n",
            "\n",
            "[2024-12-02 18:24:11,922][numexpr.utils][INFO] - NumExpr defaulting to 2 threads.\n",
            "mean return = -119.94066619873047:   0% 2/500 [01:14<5:02:23, 36.43s/it]"
          ]
        }
      ],
      "source": [
        "!python benchmarl/run.py algorithm=maddpg task=pettingzoo/simple_spread experiment.max_n_iters=500 \"experiment.loggers=[wandb]\""
      ]
    },
    {
      "cell_type": "markdown",
      "source": [
        "### Plotting Via Marl-eval"
      ],
      "metadata": {
        "id": "dn3Dk7ktwrY7"
      },
      "id": "dn3Dk7ktwrY7"
    },
    {
      "cell_type": "code",
      "source": [
        "!pip install benchmarl matplotlib"
      ],
      "metadata": {
        "id": "JatbsAJkvwq-",
        "colab": {
          "base_uri": "https://localhost:8080/"
        },
        "outputId": "22fe76ff-76ff-4efb-d5cc-a7ccc3dbdc63"
      },
      "id": "JatbsAJkvwq-",
      "execution_count": 10,
      "outputs": [
        {
          "output_type": "stream",
          "name": "stdout",
          "text": [
            "Requirement already satisfied: benchmarl in /usr/local/lib/python3.10/dist-packages (1.3.0)\n",
            "Requirement already satisfied: matplotlib in /usr/local/lib/python3.10/dist-packages (3.8.0)\n",
            "Requirement already satisfied: torchrl~=0.6.0 in /usr/local/lib/python3.10/dist-packages (from benchmarl) (0.6.0)\n",
            "Requirement already satisfied: tqdm in /usr/local/lib/python3.10/dist-packages (from benchmarl) (4.66.6)\n",
            "Requirement already satisfied: hydra-core in /usr/local/lib/python3.10/dist-packages (from benchmarl) (1.3.2)\n",
            "Requirement already satisfied: contourpy>=1.0.1 in /usr/local/lib/python3.10/dist-packages (from matplotlib) (1.3.1)\n",
            "Requirement already satisfied: cycler>=0.10 in /usr/local/lib/python3.10/dist-packages (from matplotlib) (0.12.1)\n",
            "Requirement already satisfied: fonttools>=4.22.0 in /usr/local/lib/python3.10/dist-packages (from matplotlib) (4.55.0)\n",
            "Requirement already satisfied: kiwisolver>=1.0.1 in /usr/local/lib/python3.10/dist-packages (from matplotlib) (1.4.7)\n",
            "Requirement already satisfied: numpy<2,>=1.21 in /usr/local/lib/python3.10/dist-packages (from matplotlib) (1.26.4)\n",
            "Requirement already satisfied: packaging>=20.0 in /usr/local/lib/python3.10/dist-packages (from matplotlib) (24.2)\n",
            "Requirement already satisfied: pillow>=6.2.0 in /usr/local/lib/python3.10/dist-packages (from matplotlib) (11.0.0)\n",
            "Requirement already satisfied: pyparsing>=2.3.1 in /usr/local/lib/python3.10/dist-packages (from matplotlib) (3.2.0)\n",
            "Requirement already satisfied: python-dateutil>=2.7 in /usr/local/lib/python3.10/dist-packages (from matplotlib) (2.8.2)\n",
            "Requirement already satisfied: six>=1.5 in /usr/local/lib/python3.10/dist-packages (from python-dateutil>=2.7->matplotlib) (1.16.0)\n",
            "Requirement already satisfied: torch>=2.5.0 in /usr/local/lib/python3.10/dist-packages (from torchrl~=0.6.0->benchmarl) (2.5.1+cu121)\n",
            "Requirement already satisfied: cloudpickle in /usr/local/lib/python3.10/dist-packages (from torchrl~=0.6.0->benchmarl) (3.1.0)\n",
            "Requirement already satisfied: tensordict>=0.6.0 in /usr/local/lib/python3.10/dist-packages (from torchrl~=0.6.0->benchmarl) (0.6.2)\n",
            "Requirement already satisfied: omegaconf<2.4,>=2.2 in /usr/local/lib/python3.10/dist-packages (from hydra-core->benchmarl) (2.3.0)\n",
            "Requirement already satisfied: antlr4-python3-runtime==4.9.* in /usr/local/lib/python3.10/dist-packages (from hydra-core->benchmarl) (4.9.3)\n",
            "Requirement already satisfied: PyYAML>=5.1.0 in /usr/local/lib/python3.10/dist-packages (from omegaconf<2.4,>=2.2->hydra-core->benchmarl) (6.0.2)\n",
            "Requirement already satisfied: orjson in /usr/local/lib/python3.10/dist-packages (from tensordict>=0.6.0->torchrl~=0.6.0->benchmarl) (3.10.11)\n",
            "Requirement already satisfied: filelock in /usr/local/lib/python3.10/dist-packages (from torch>=2.5.0->torchrl~=0.6.0->benchmarl) (3.16.1)\n",
            "Requirement already satisfied: typing-extensions>=4.8.0 in /usr/local/lib/python3.10/dist-packages (from torch>=2.5.0->torchrl~=0.6.0->benchmarl) (4.12.2)\n",
            "Requirement already satisfied: networkx in /usr/local/lib/python3.10/dist-packages (from torch>=2.5.0->torchrl~=0.6.0->benchmarl) (3.4.2)\n",
            "Requirement already satisfied: jinja2 in /usr/local/lib/python3.10/dist-packages (from torch>=2.5.0->torchrl~=0.6.0->benchmarl) (3.1.4)\n",
            "Requirement already satisfied: fsspec in /usr/local/lib/python3.10/dist-packages (from torch>=2.5.0->torchrl~=0.6.0->benchmarl) (2024.10.0)\n",
            "Requirement already satisfied: sympy==1.13.1 in /usr/local/lib/python3.10/dist-packages (from torch>=2.5.0->torchrl~=0.6.0->benchmarl) (1.13.1)\n",
            "Requirement already satisfied: mpmath<1.4,>=1.1.0 in /usr/local/lib/python3.10/dist-packages (from sympy==1.13.1->torch>=2.5.0->torchrl~=0.6.0->benchmarl) (1.3.0)\n",
            "Requirement already satisfied: MarkupSafe>=2.0 in /usr/local/lib/python3.10/dist-packages (from jinja2->torch>=2.5.0->torchrl~=0.6.0->benchmarl) (3.0.2)\n"
          ]
        }
      ]
    },
    {
      "cell_type": "code",
      "source": [
        "import os\n",
        "from pathlib import Path\n",
        "from typing import List\n",
        "\n",
        "from benchmarl.eval_results import load_and_merge_json_dicts, Plotting\n",
        "\n",
        "from matplotlib import pyplot as plt"
      ],
      "metadata": {
        "id": "Lvt0ItFaFz0f",
        "colab": {
          "base_uri": "https://localhost:8080/"
        },
        "outputId": "f20c5910-ee43-41ac-dd1a-1cb386f0530d"
      },
      "id": "Lvt0ItFaFz0f",
      "execution_count": 11,
      "outputs": [
        {
          "output_type": "stream",
          "name": "stderr",
          "text": [
            "/content/BenchMARL/benchmarl/environments/magent/common.py:44: DeprecationWarning: private variables, such as '_MAgentTask__get_env', will be normal attributes in 3.11\n",
            "  def __get_env(self) -> EnvBase:\n"
          ]
        }
      ]
    },
    {
      "cell_type": "code",
      "source": [
        "def run_benchmark() -> List[str]:\n",
        "    from benchmarl.algorithms import MappoConfig, MasacConfig, MaddpgConfig\n",
        "    from benchmarl.benchmark import Benchmark\n",
        "    from benchmarl.environments import PettingZooTask\n",
        "    from benchmarl.experiment import ExperimentConfig\n",
        "    from benchmarl.models.mlp import MlpConfig\n",
        "\n",
        "    # Configure experiment\n",
        "    experiment_config = ExperimentConfig.get_from_yaml()\n",
        "    experiment_config.save_folder = Path(os.getcwd())\n",
        "\n",
        "    experiment_config.loggers = []\n",
        "    experiment_config.max_n_iters = 100\n",
        "\n",
        "    # Configure benchmark\n",
        "    tasks = [PettingZooTask.SIMPLE_ADVERSARY.get_from_yaml(), PettingZooTask.SIMPLE_TAG.get_from_yaml(), PettingZooTask.SIMPLE_SPREAD.get_from_yaml()]\n",
        "    algorithm_configs = [\n",
        "        MappoConfig.get_from_yaml(),\n",
        "        MasacConfig.get_from_yaml(),\n",
        "        MaddpgConfig.get_from_yaml()\n",
        "\n",
        "    ]\n",
        "    model_config = MlpConfig.get_from_yaml()\n",
        "    critic_model_config = MlpConfig.get_from_yaml()\n",
        "\n",
        "    benchmark = Benchmark(\n",
        "        algorithm_configs=algorithm_configs,\n",
        "        tasks=tasks,\n",
        "        seeds={0, 1, 27, 42, 95},\n",
        "        experiment_config=experiment_config,\n",
        "        model_config=model_config,\n",
        "        critic_model_config=critic_model_config,\n",
        "    )\n",
        "\n",
        "    # For each experiment, run it and get its output file name\n",
        "    experiments = benchmark.get_experiments()\n",
        "    experiments_json_files = []\n",
        "    for experiment in experiments:\n",
        "        exp_json_file = str(\n",
        "            Path(experiment.folder_name) / Path(experiment.name + \".json\")\n",
        "        )\n",
        "        experiments_json_files.append(exp_json_file)\n",
        "        experiment.run()\n",
        "    return experiments_json_files"
      ],
      "metadata": {
        "id": "h9NTxUp_GFpR",
        "colab": {
          "base_uri": "https://localhost:8080/"
        },
        "outputId": "85319993-d6de-4c65-a84e-6a6010d449ad"
      },
      "id": "h9NTxUp_GFpR",
      "execution_count": 12,
      "outputs": [
        {
          "output_type": "stream",
          "name": "stderr",
          "text": [
            "/usr/local/lib/python3.10/dist-packages/ipykernel/ipkernel.py:283: DeprecationWarning: `should_run_async` will not call `transform_cell` automatically in the future. Please pass the result to `transformed_cell` argument and any exception that happen during thetransform in `preprocessing_exc_tuple` in IPython 7.17 and above.\n",
            "  and should_run_async(code)\n"
          ]
        }
      ]
    },
    {
      "cell_type": "code",
      "source": [
        "import pettingzoo"
      ],
      "metadata": {
        "id": "2BZemCWxmZFP"
      },
      "id": "2BZemCWxmZFP",
      "execution_count": 13,
      "outputs": []
    },
    {
      "cell_type": "code",
      "source": [
        "# Run the benchmark and process data\n",
        "# Ensure the current working directory is correctly set up\n",
        "#current_working_dir = Path(os.getcwd())\n",
        "#os.chdir(current_working_dir)\n",
        "\n",
        "# Uncomment to run the benchmark\n",
        "#experiments_json_files = run_benchmark()\n",
        "\n",
        "# Load and process experiment outputs\n",
        "#raw_dict = load_and_merge_json_dicts(experiments_json_files)\n",
        "processed_data = Plotting.process_data(raw_dict)\n",
        "\n",
        "(\n",
        "    environment_comparison_matrix,\n",
        "    sample_efficiency_matrix,\n",
        ") = Plotting.create_matrices(processed_data, env_name=\"pettingzoo\")\n",
        "\n",
        "# Plotting\n",
        "Plotting.performance_profile_figure(\n",
        "    environment_comparison_matrix=environment_comparison_matrix\n",
        ")\n",
        "Plotting.aggregate_scores(\n",
        "    environment_comparison_matrix=environment_comparison_matrix\n",
        ")\n",
        "Plotting.environemnt_sample_efficiency_curves(\n",
        "    sample_effeciency_matrix=sample_efficiency_matrix\n",
        ")\n",
        "Plotting.task_sample_efficiency_curves(\n",
        "    processed_data=processed_data, env=\"pettingzoo\", task=\"simple_tag\"\n",
        ")\n",
        "Plotting.probability_of_improvement(\n",
        "    environment_comparison_matrix,\n",
        "    algorithms_to_compare=[[\"masac\", \"mappo\"]],\n",
        ")\n",
        "plt.show()"
      ],
      "metadata": {
        "colab": {
          "base_uri": "https://localhost:8080/"
        },
        "id": "T4VpIPDRIAhk",
        "outputId": "a487859b-cb74-4b36-e589-60ec62655267"
      },
      "id": "T4VpIPDRIAhk",
      "execution_count": null,
      "outputs": [
        {
          "output_type": "stream",
          "name": "stderr",
          "text": [
            "/usr/local/lib/python3.10/dist-packages/ipykernel/ipkernel.py:283: DeprecationWarning: `should_run_async` will not call `transform_cell` automatically in the future. Please pass the result to `transformed_cell` argument and any exception that happen during thetransform in `preprocessing_exc_tuple` in IPython 7.17 and above.\n",
            "  and should_run_async(code)\n",
            "/usr/local/lib/python3.10/dist-packages/torchrl/envs/libs/pettingzoo.py:995: UserWarning: PettingZoo failed to load all modules with error message No module named 'multi_agent_ale_py', trying to load individual modules.\n",
            "  warnings.warn(\n",
            "/usr/local/lib/python3.10/dist-packages/torchrl/envs/libs/pettingzoo.py:51: UserWarning: SISL environments failed to load with error message No module named 'Box2D'.\n",
            "  warnings.warn(f\"SISL environments failed to load with error message {err}.\")\n",
            "/usr/local/lib/python3.10/dist-packages/torchrl/envs/libs/pettingzoo.py:57: UserWarning: Classic environments failed to load with error message No module named 'chess'.\n",
            "  warnings.warn(f\"Classic environments failed to load with error message {err}.\")\n",
            "/usr/local/lib/python3.10/dist-packages/torchrl/envs/libs/pettingzoo.py:63: UserWarning: Atari environments failed to load with error message No module named 'multi_agent_ale_py'.\n",
            "  warnings.warn(f\"Atari environments failed to load with error message {err}.\")\n",
            "/usr/local/lib/python3.10/dist-packages/torchrl/envs/libs/pettingzoo.py:69: UserWarning: Butterfly environments failed to load with error message No module named 'pymunk'.\n",
            "  warnings.warn(\n"
          ]
        },
        {
          "output_type": "stream",
          "name": "stdout",
          "text": [
            "Created benchmark with 45 experiments.\n"
          ]
        },
        {
          "output_type": "stream",
          "name": "stderr",
          "text": [
            "\r  0%|          | 0/100 [00:00<?, ?it/s]"
          ]
        }
      ]
    }
  ],
  "metadata": {
    "kernelspec": {
      "display_name": "Python 3",
      "name": "python3"
    },
    "language_info": {
      "codemirror_mode": {
        "name": "ipython",
        "version": 3
      },
      "file_extension": ".py",
      "mimetype": "text/x-python",
      "name": "python",
      "nbconvert_exporter": "python",
      "pygments_lexer": "ipython3",
      "version": "3.9.16"
    },
    "colab": {
      "provenance": [],
      "gpuType": "T4",
      "include_colab_link": true
    },
    "accelerator": "GPU"
  },
  "nbformat": 4,
  "nbformat_minor": 5
}